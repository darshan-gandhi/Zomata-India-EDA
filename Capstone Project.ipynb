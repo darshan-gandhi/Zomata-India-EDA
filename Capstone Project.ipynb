{
 "cells": [
  {
   "cell_type": "markdown",
   "metadata": {},
   "source": [
    "<table align=\"center\" width=100%>\n",
    "    <tr>\n",
    "        <td width=\"15%\">\n",
    "            <img src=\"edaicon.png\">\n",
    "        </td>\n",
    "        <td>\n",
    "            <div align=\"center\">\n",
    "                <font color=\"#21618C\" size=24px>\n",
    "                    <b>Exploratory Data Analysis\n",
    "                    </b>\n",
    "                </font>\n",
    "            </div>\n",
    "        </td>\n",
    "    </tr>\n",
    "</table>"
   ]
  },
  {
   "cell_type": "markdown",
   "metadata": {},
   "source": [
    "## Problem Statement\n",
    "\n",
    "The zomato exploratory data analysis is for the foodies to find the best restaurants, value for money restaurants in their locality. It also helps to find their required cuisines in their locality.  "
   ]
  },
  {
   "cell_type": "markdown",
   "metadata": {},
   "source": [
    "## Data Definition\n",
    "\n",
    "**res_id**: The code given to a restaurant (Categorical) \n",
    "\n",
    "**name**: Name of the restaurant (Categorical)\n",
    "\n",
    "**establishment**: Represents the type of establishment (Categorical)\n",
    "\n",
    "**url**: The website of the restaurant (Categorical)\n",
    "\n",
    "**address**: The address of the restaurant (Categorical)\n",
    "\n",
    "**city**: City in which the restaurant located (Categorical)\n",
    "\n",
    "**city_id**: The code given to a city (Categorical)\n",
    "\n",
    "**locality**: Locality of the restaurant (Categorical)\n",
    "\n",
    "**latitude**: Latitude of the restaurant (Categorical)\n",
    "\n",
    "**longitude**: Longitude of the restaurant (Categorical)\n",
    "\n",
    "**zipcode**: Zipcode of the city in which the restaurant located (Categorical)\n",
    "\n",
    "**country_id**: Country code in which the restaurant located (Categorical)\n",
    "\n",
    "**locality_verbose**: Locality along with the city in which the restaurant located (Categorical)\n",
    "\n",
    "**cuisines**: The cuisines a restaurant serves (Categorical)\n",
    "\n",
    "**timings**: The working hours of a restaurant (Categorical)\n",
    "\n",
    "**average_cost_for_two**: The average amount expected for 2 people (Numerical)\n",
    "\n",
    "**price_range**: The categories for average cost (Categories - 1,2,3,4) (Categorical)\n",
    "\n",
    "**currency**: The currency in which a customer pays (Categorical)\n",
    "\n",
    "**highlights**: The facilities of the restaurant (Categorical)\n",
    "\n",
    "**aggregate_rating**: The overall rating a restaurant has got (Numerical) \n",
    "\n",
    "**rating_text**: Categorized ratings (Categorical)\n",
    "\n",
    "**votes**: Number of votes received by the restaurant from customers (Numerical)\n",
    "\n",
    "**photo_count**: The number of photos of a restaurant (Numerical)\n",
    "\n",
    "**opentable_support**: Restaurant reservation from Opentable (Categorical)\n",
    "\n",
    "**delivery**: The restaurant deliver an order or not (Categorical)\n",
    "\n",
    "**takeaway**: The restaurant allows  a 'takeaway' of an order or not (Categorical)"
   ]
  },
  {
   "cell_type": "markdown",
   "metadata": {},
   "source": [
    "## Table of Contents\n",
    "\n",
    "1. **[Import Libraries](#import_lib)** \n",
    "2. **[Set Options](#set_options)** \n",
    "3. **[Read Data](#Read_Data)** \n",
    "4. **[Understand  and Prepare the Data](#Understand_Data)**\n",
    "5. **[Understand the variables](#Understanding_variables)**\n",
    "6. **[Check for Missing Values](#missing)**\n",
    "7. **[Study Correlation](#correlation)**\n",
    "8. **[Detect Outliers](#outliers)**\n",
    "9. **[Create a new variable 'region'](#region)**\n",
    "10. **[Some more analysis](#more)** \n"
   ]
  },
  {
   "cell_type": "markdown",
   "metadata": {},
   "source": [
    "<a id='import_lib'></a>\n",
    "## 1. Import Libraries"
   ]
  },
  {
   "cell_type": "markdown",
   "metadata": {},
   "source": [
    "<table align =\"left\">\n",
    "    <tr>\n",
    "        <td width=\"8%\">\n",
    "            <img src=\"todo.png\">\n",
    "        </td>\n",
    "        <td>\n",
    "            <div align=\"left\", style=\"font-size:120%\">\n",
    "                <font color=\"#21618C\">\n",
    "                    <b> Import the required libraries and functions\n",
    "                    </b>\n",
    "                </font>\n",
    "            </div>\n",
    "        </td>\n",
    "    </tr>\n",
    "</table>"
   ]
  },
  {
   "cell_type": "code",
   "execution_count": 1,
   "metadata": {},
   "outputs": [],
   "source": [
    "import pandas as pd\n",
    "import numpy as np "
   ]
  },
  {
   "cell_type": "markdown",
   "metadata": {},
   "source": [
    "<a id='set_options'></a>\n",
    "## 2. Set Options"
   ]
  },
  {
   "cell_type": "markdown",
   "metadata": {},
   "source": [
    "<table align=\"left\">\n",
    "    <tr>\n",
    "        <td width=\"8%\">\n",
    "            <img src=\"todo.png\">\n",
    "        </td>\n",
    "        <td>\n",
    "            <div align=\"left\", style=\"font-size:120%\">\n",
    "                <font color=\"#21618C\">\n",
    "                    <b>Make necessary changes to :<br><br>\n",
    "Set the working directory              \n",
    "                    </b>\n",
    "                </font>\n",
    "            </div>\n",
    "        </td>\n",
    "    </tr>\n",
    "</table>"
   ]
  },
  {
   "cell_type": "code",
   "execution_count": null,
   "metadata": {},
   "outputs": [],
   "source": []
  },
  {
   "cell_type": "markdown",
   "metadata": {},
   "source": [
    "<a id='Read_Data'></a>\n",
    "## 3. Read Data"
   ]
  },
  {
   "cell_type": "code",
   "execution_count": 2,
   "metadata": {},
   "outputs": [
    {
     "data": {
      "text/html": [
       "<div>\n",
       "<style scoped>\n",
       "    .dataframe tbody tr th:only-of-type {\n",
       "        vertical-align: middle;\n",
       "    }\n",
       "\n",
       "    .dataframe tbody tr th {\n",
       "        vertical-align: top;\n",
       "    }\n",
       "\n",
       "    .dataframe thead th {\n",
       "        text-align: right;\n",
       "    }\n",
       "</style>\n",
       "<table border=\"1\" class=\"dataframe\">\n",
       "  <thead>\n",
       "    <tr style=\"text-align: right;\">\n",
       "      <th></th>\n",
       "      <th>res_id</th>\n",
       "      <th>name</th>\n",
       "      <th>establishment</th>\n",
       "      <th>url</th>\n",
       "      <th>address</th>\n",
       "      <th>city</th>\n",
       "      <th>city_id</th>\n",
       "      <th>locality</th>\n",
       "      <th>latitude</th>\n",
       "      <th>longitude</th>\n",
       "      <th>...</th>\n",
       "      <th>price_range</th>\n",
       "      <th>currency</th>\n",
       "      <th>highlights</th>\n",
       "      <th>aggregate_rating</th>\n",
       "      <th>rating_text</th>\n",
       "      <th>votes</th>\n",
       "      <th>photo_count</th>\n",
       "      <th>opentable_support</th>\n",
       "      <th>delivery</th>\n",
       "      <th>takeaway</th>\n",
       "    </tr>\n",
       "  </thead>\n",
       "  <tbody>\n",
       "    <tr>\n",
       "      <td>0</td>\n",
       "      <td>3400299</td>\n",
       "      <td>Bikanervala</td>\n",
       "      <td>Quick Bites</td>\n",
       "      <td>https://www.zomato.com/agra/bikanervala-khanda...</td>\n",
       "      <td>Kalyani Point, Near Tulsi Cinema, Bypass Road,...</td>\n",
       "      <td>Agra</td>\n",
       "      <td>34</td>\n",
       "      <td>Khandari</td>\n",
       "      <td>27.211450</td>\n",
       "      <td>78.002381</td>\n",
       "      <td>...</td>\n",
       "      <td>2</td>\n",
       "      <td>Rs.</td>\n",
       "      <td>Lunch, Takeaway Available, Credit Card, Dinner...</td>\n",
       "      <td>4.4</td>\n",
       "      <td>Very Good</td>\n",
       "      <td>814</td>\n",
       "      <td>154</td>\n",
       "      <td>0.0</td>\n",
       "      <td>-1</td>\n",
       "      <td>-1</td>\n",
       "    </tr>\n",
       "    <tr>\n",
       "      <td>1</td>\n",
       "      <td>3400005</td>\n",
       "      <td>Mama Chicken Mama Franky House</td>\n",
       "      <td>Quick Bites</td>\n",
       "      <td>https://www.zomato.com/agra/mama-chicken-mama-...</td>\n",
       "      <td>Main Market, Sadar Bazaar, Agra Cantt, Agra</td>\n",
       "      <td>Agra</td>\n",
       "      <td>34</td>\n",
       "      <td>Agra Cantt</td>\n",
       "      <td>27.160569</td>\n",
       "      <td>78.011583</td>\n",
       "      <td>...</td>\n",
       "      <td>2</td>\n",
       "      <td>Rs.</td>\n",
       "      <td>Delivery, No Alcohol Available, Dinner, Takeaw...</td>\n",
       "      <td>4.4</td>\n",
       "      <td>Very Good</td>\n",
       "      <td>1203</td>\n",
       "      <td>161</td>\n",
       "      <td>0.0</td>\n",
       "      <td>-1</td>\n",
       "      <td>-1</td>\n",
       "    </tr>\n",
       "    <tr>\n",
       "      <td>2</td>\n",
       "      <td>3401013</td>\n",
       "      <td>Bhagat Halwai</td>\n",
       "      <td>Quick Bites</td>\n",
       "      <td>https://www.zomato.com/agra/bhagat-halwai-2-sh...</td>\n",
       "      <td>62/1, Near Easy Day, West Shivaji Nagar, Goalp...</td>\n",
       "      <td>Agra</td>\n",
       "      <td>34</td>\n",
       "      <td>Shahganj</td>\n",
       "      <td>27.182938</td>\n",
       "      <td>77.979684</td>\n",
       "      <td>...</td>\n",
       "      <td>1</td>\n",
       "      <td>Rs.</td>\n",
       "      <td>No Alcohol Available, Dinner, Takeaway Availab...</td>\n",
       "      <td>4.2</td>\n",
       "      <td>Very Good</td>\n",
       "      <td>801</td>\n",
       "      <td>107</td>\n",
       "      <td>0.0</td>\n",
       "      <td>1</td>\n",
       "      <td>-1</td>\n",
       "    </tr>\n",
       "    <tr>\n",
       "      <td>3</td>\n",
       "      <td>3400290</td>\n",
       "      <td>Bhagat Halwai</td>\n",
       "      <td>Quick Bites</td>\n",
       "      <td>https://www.zomato.com/agra/bhagat-halwai-civi...</td>\n",
       "      <td>Near Anjana Cinema, Nehru Nagar, Civil Lines, ...</td>\n",
       "      <td>Agra</td>\n",
       "      <td>34</td>\n",
       "      <td>Civil Lines</td>\n",
       "      <td>27.205668</td>\n",
       "      <td>78.004799</td>\n",
       "      <td>...</td>\n",
       "      <td>1</td>\n",
       "      <td>Rs.</td>\n",
       "      <td>Takeaway Available, Credit Card, Lunch, Delive...</td>\n",
       "      <td>4.3</td>\n",
       "      <td>Very Good</td>\n",
       "      <td>693</td>\n",
       "      <td>157</td>\n",
       "      <td>0.0</td>\n",
       "      <td>1</td>\n",
       "      <td>-1</td>\n",
       "    </tr>\n",
       "    <tr>\n",
       "      <td>4</td>\n",
       "      <td>3401744</td>\n",
       "      <td>The Salt Cafe Kitchen &amp; Bar</td>\n",
       "      <td>Casual Dining</td>\n",
       "      <td>https://www.zomato.com/agra/the-salt-cafe-kitc...</td>\n",
       "      <td>1C,3rd Floor, Fatehabad Road, Tajganj, Agra</td>\n",
       "      <td>Agra</td>\n",
       "      <td>34</td>\n",
       "      <td>Tajganj</td>\n",
       "      <td>27.157709</td>\n",
       "      <td>78.052421</td>\n",
       "      <td>...</td>\n",
       "      <td>3</td>\n",
       "      <td>Rs.</td>\n",
       "      <td>Lunch, Serves Alcohol, Cash, Credit Card, Dinn...</td>\n",
       "      <td>4.9</td>\n",
       "      <td>Excellent</td>\n",
       "      <td>470</td>\n",
       "      <td>291</td>\n",
       "      <td>0.0</td>\n",
       "      <td>1</td>\n",
       "      <td>-1</td>\n",
       "    </tr>\n",
       "  </tbody>\n",
       "</table>\n",
       "<p>5 rows × 26 columns</p>\n",
       "</div>"
      ],
      "text/plain": [
       "    res_id                            name  establishment  \\\n",
       "0  3400299                     Bikanervala    Quick Bites   \n",
       "1  3400005  Mama Chicken Mama Franky House    Quick Bites   \n",
       "2  3401013                   Bhagat Halwai    Quick Bites   \n",
       "3  3400290                   Bhagat Halwai    Quick Bites   \n",
       "4  3401744     The Salt Cafe Kitchen & Bar  Casual Dining   \n",
       "\n",
       "                                                 url  \\\n",
       "0  https://www.zomato.com/agra/bikanervala-khanda...   \n",
       "1  https://www.zomato.com/agra/mama-chicken-mama-...   \n",
       "2  https://www.zomato.com/agra/bhagat-halwai-2-sh...   \n",
       "3  https://www.zomato.com/agra/bhagat-halwai-civi...   \n",
       "4  https://www.zomato.com/agra/the-salt-cafe-kitc...   \n",
       "\n",
       "                                             address  city  city_id  \\\n",
       "0  Kalyani Point, Near Tulsi Cinema, Bypass Road,...  Agra       34   \n",
       "1        Main Market, Sadar Bazaar, Agra Cantt, Agra  Agra       34   \n",
       "2  62/1, Near Easy Day, West Shivaji Nagar, Goalp...  Agra       34   \n",
       "3  Near Anjana Cinema, Nehru Nagar, Civil Lines, ...  Agra       34   \n",
       "4        1C,3rd Floor, Fatehabad Road, Tajganj, Agra  Agra       34   \n",
       "\n",
       "      locality   latitude  longitude  ... price_range  currency  \\\n",
       "0     Khandari  27.211450  78.002381  ...           2       Rs.   \n",
       "1   Agra Cantt  27.160569  78.011583  ...           2       Rs.   \n",
       "2     Shahganj  27.182938  77.979684  ...           1       Rs.   \n",
       "3  Civil Lines  27.205668  78.004799  ...           1       Rs.   \n",
       "4      Tajganj  27.157709  78.052421  ...           3       Rs.   \n",
       "\n",
       "                                          highlights aggregate_rating  \\\n",
       "0  Lunch, Takeaway Available, Credit Card, Dinner...              4.4   \n",
       "1  Delivery, No Alcohol Available, Dinner, Takeaw...              4.4   \n",
       "2  No Alcohol Available, Dinner, Takeaway Availab...              4.2   \n",
       "3  Takeaway Available, Credit Card, Lunch, Delive...              4.3   \n",
       "4  Lunch, Serves Alcohol, Cash, Credit Card, Dinn...              4.9   \n",
       "\n",
       "  rating_text  votes  photo_count opentable_support delivery  takeaway  \n",
       "0   Very Good    814          154               0.0       -1        -1  \n",
       "1   Very Good   1203          161               0.0       -1        -1  \n",
       "2   Very Good    801          107               0.0        1        -1  \n",
       "3   Very Good    693          157               0.0        1        -1  \n",
       "4   Excellent    470          291               0.0        1        -1  \n",
       "\n",
       "[5 rows x 26 columns]"
      ]
     },
     "execution_count": 2,
     "metadata": {},
     "output_type": "execute_result"
    }
   ],
   "source": [
    "data=pd.read_csv(\"ZomatoRestaurantsIndia.csv\")\n",
    "data.head()"
   ]
  },
  {
   "cell_type": "markdown",
   "metadata": {},
   "source": [
    "<a id='Understand_Data'></a>\n",
    "## 4. Understand  and Prepare the Data"
   ]
  },
  {
   "cell_type": "markdown",
   "metadata": {},
   "source": [
    "A well-prepared data proves beneficial for analysis as it limits errors and inaccuracies that can occur during analysis. The processed data is more accessible to users.<br> <br>\n",
    "                         Data understanding is the process of getting familiar with the data, to identify data type, to discover first insights into the data, or to detect interesting subsets to form hypotheses about hidden information. Whereas, data preparation is the process of cleaning and transforming raw data before analysis. It is an important step before processing and often involves reformatting data, making corrections to data. <br> <br>\n",
    "                        Data preparation is often a lengthy process, but it is essential as a prerequisite to put data in context to get insights and eliminate bias resulting from poor data quality."
   ]
  },
  {
   "cell_type": "markdown",
   "metadata": {},
   "source": [
    "<table align=\"left\">\n",
    "    <tr>\n",
    "        <td width=\"8%\">\n",
    "            <img src=\"todo.png\">\n",
    "        </td>\n",
    "        <td>\n",
    "            <div align=\"left\", style=\"font-size:120%\">\n",
    "                <font color=\"#21618C\">\n",
    "                    <b> Analyze and prepare data:<br>\n",
    "                        1. Check dimensions of the dataframe <br>\n",
    "                        2. View the head of the data<br>\n",
    "                        3. Note the redundant variables and drop them <br>\n",
    "                        4. Check the data types. Refer to data definition to ensure your data types are correct. If data types are not as per business context, change the data types as per requirement <br>\n",
    "                        5. Check for duplicates<br>\n",
    "                        Note: It is an art to explore data and one will need more and more practice to gain expertise in this area\n",
    "                    </b>\n",
    "                </font>\n",
    "            </div>\n",
    "        </td>\n",
    "    </tr>\n",
    "</table>"
   ]
  },
  {
   "cell_type": "markdown",
   "metadata": {},
   "source": [
    "### -------------------------*** Provide the inference's from the output of every code executed.***----------------------------"
   ]
  },
  {
   "cell_type": "markdown",
   "metadata": {},
   "source": [
    "**1. Check dimensions of the dataframe in terms of rows and columns**"
   ]
  },
  {
   "cell_type": "code",
   "execution_count": 3,
   "metadata": {},
   "outputs": [
    {
     "data": {
      "text/plain": [
       "(211944, 26)"
      ]
     },
     "execution_count": 3,
     "metadata": {},
     "output_type": "execute_result"
    }
   ],
   "source": [
    "data.shape"
   ]
  },
  {
   "cell_type": "markdown",
   "metadata": {},
   "source": [
    "Inference drawn: \n",
    "    * The no.of rows are 211944\n",
    "    * The no.of columns are 26"
   ]
  },
  {
   "cell_type": "markdown",
   "metadata": {},
   "source": [
    "**2. View the head of the data**"
   ]
  },
  {
   "cell_type": "code",
   "execution_count": 4,
   "metadata": {},
   "outputs": [
    {
     "data": {
      "text/html": [
       "<div>\n",
       "<style scoped>\n",
       "    .dataframe tbody tr th:only-of-type {\n",
       "        vertical-align: middle;\n",
       "    }\n",
       "\n",
       "    .dataframe tbody tr th {\n",
       "        vertical-align: top;\n",
       "    }\n",
       "\n",
       "    .dataframe thead th {\n",
       "        text-align: right;\n",
       "    }\n",
       "</style>\n",
       "<table border=\"1\" class=\"dataframe\">\n",
       "  <thead>\n",
       "    <tr style=\"text-align: right;\">\n",
       "      <th></th>\n",
       "      <th>res_id</th>\n",
       "      <th>name</th>\n",
       "      <th>establishment</th>\n",
       "      <th>url</th>\n",
       "      <th>address</th>\n",
       "      <th>city</th>\n",
       "      <th>city_id</th>\n",
       "      <th>locality</th>\n",
       "      <th>latitude</th>\n",
       "      <th>longitude</th>\n",
       "      <th>...</th>\n",
       "      <th>price_range</th>\n",
       "      <th>currency</th>\n",
       "      <th>highlights</th>\n",
       "      <th>aggregate_rating</th>\n",
       "      <th>rating_text</th>\n",
       "      <th>votes</th>\n",
       "      <th>photo_count</th>\n",
       "      <th>opentable_support</th>\n",
       "      <th>delivery</th>\n",
       "      <th>takeaway</th>\n",
       "    </tr>\n",
       "  </thead>\n",
       "  <tbody>\n",
       "    <tr>\n",
       "      <td>0</td>\n",
       "      <td>3400299</td>\n",
       "      <td>Bikanervala</td>\n",
       "      <td>Quick Bites</td>\n",
       "      <td>https://www.zomato.com/agra/bikanervala-khanda...</td>\n",
       "      <td>Kalyani Point, Near Tulsi Cinema, Bypass Road,...</td>\n",
       "      <td>Agra</td>\n",
       "      <td>34</td>\n",
       "      <td>Khandari</td>\n",
       "      <td>27.211450</td>\n",
       "      <td>78.002381</td>\n",
       "      <td>...</td>\n",
       "      <td>2</td>\n",
       "      <td>Rs.</td>\n",
       "      <td>Lunch, Takeaway Available, Credit Card, Dinner...</td>\n",
       "      <td>4.4</td>\n",
       "      <td>Very Good</td>\n",
       "      <td>814</td>\n",
       "      <td>154</td>\n",
       "      <td>0.0</td>\n",
       "      <td>-1</td>\n",
       "      <td>-1</td>\n",
       "    </tr>\n",
       "    <tr>\n",
       "      <td>1</td>\n",
       "      <td>3400005</td>\n",
       "      <td>Mama Chicken Mama Franky House</td>\n",
       "      <td>Quick Bites</td>\n",
       "      <td>https://www.zomato.com/agra/mama-chicken-mama-...</td>\n",
       "      <td>Main Market, Sadar Bazaar, Agra Cantt, Agra</td>\n",
       "      <td>Agra</td>\n",
       "      <td>34</td>\n",
       "      <td>Agra Cantt</td>\n",
       "      <td>27.160569</td>\n",
       "      <td>78.011583</td>\n",
       "      <td>...</td>\n",
       "      <td>2</td>\n",
       "      <td>Rs.</td>\n",
       "      <td>Delivery, No Alcohol Available, Dinner, Takeaw...</td>\n",
       "      <td>4.4</td>\n",
       "      <td>Very Good</td>\n",
       "      <td>1203</td>\n",
       "      <td>161</td>\n",
       "      <td>0.0</td>\n",
       "      <td>-1</td>\n",
       "      <td>-1</td>\n",
       "    </tr>\n",
       "    <tr>\n",
       "      <td>2</td>\n",
       "      <td>3401013</td>\n",
       "      <td>Bhagat Halwai</td>\n",
       "      <td>Quick Bites</td>\n",
       "      <td>https://www.zomato.com/agra/bhagat-halwai-2-sh...</td>\n",
       "      <td>62/1, Near Easy Day, West Shivaji Nagar, Goalp...</td>\n",
       "      <td>Agra</td>\n",
       "      <td>34</td>\n",
       "      <td>Shahganj</td>\n",
       "      <td>27.182938</td>\n",
       "      <td>77.979684</td>\n",
       "      <td>...</td>\n",
       "      <td>1</td>\n",
       "      <td>Rs.</td>\n",
       "      <td>No Alcohol Available, Dinner, Takeaway Availab...</td>\n",
       "      <td>4.2</td>\n",
       "      <td>Very Good</td>\n",
       "      <td>801</td>\n",
       "      <td>107</td>\n",
       "      <td>0.0</td>\n",
       "      <td>1</td>\n",
       "      <td>-1</td>\n",
       "    </tr>\n",
       "    <tr>\n",
       "      <td>3</td>\n",
       "      <td>3400290</td>\n",
       "      <td>Bhagat Halwai</td>\n",
       "      <td>Quick Bites</td>\n",
       "      <td>https://www.zomato.com/agra/bhagat-halwai-civi...</td>\n",
       "      <td>Near Anjana Cinema, Nehru Nagar, Civil Lines, ...</td>\n",
       "      <td>Agra</td>\n",
       "      <td>34</td>\n",
       "      <td>Civil Lines</td>\n",
       "      <td>27.205668</td>\n",
       "      <td>78.004799</td>\n",
       "      <td>...</td>\n",
       "      <td>1</td>\n",
       "      <td>Rs.</td>\n",
       "      <td>Takeaway Available, Credit Card, Lunch, Delive...</td>\n",
       "      <td>4.3</td>\n",
       "      <td>Very Good</td>\n",
       "      <td>693</td>\n",
       "      <td>157</td>\n",
       "      <td>0.0</td>\n",
       "      <td>1</td>\n",
       "      <td>-1</td>\n",
       "    </tr>\n",
       "    <tr>\n",
       "      <td>4</td>\n",
       "      <td>3401744</td>\n",
       "      <td>The Salt Cafe Kitchen &amp; Bar</td>\n",
       "      <td>Casual Dining</td>\n",
       "      <td>https://www.zomato.com/agra/the-salt-cafe-kitc...</td>\n",
       "      <td>1C,3rd Floor, Fatehabad Road, Tajganj, Agra</td>\n",
       "      <td>Agra</td>\n",
       "      <td>34</td>\n",
       "      <td>Tajganj</td>\n",
       "      <td>27.157709</td>\n",
       "      <td>78.052421</td>\n",
       "      <td>...</td>\n",
       "      <td>3</td>\n",
       "      <td>Rs.</td>\n",
       "      <td>Lunch, Serves Alcohol, Cash, Credit Card, Dinn...</td>\n",
       "      <td>4.9</td>\n",
       "      <td>Excellent</td>\n",
       "      <td>470</td>\n",
       "      <td>291</td>\n",
       "      <td>0.0</td>\n",
       "      <td>1</td>\n",
       "      <td>-1</td>\n",
       "    </tr>\n",
       "  </tbody>\n",
       "</table>\n",
       "<p>5 rows × 26 columns</p>\n",
       "</div>"
      ],
      "text/plain": [
       "    res_id                            name  establishment  \\\n",
       "0  3400299                     Bikanervala    Quick Bites   \n",
       "1  3400005  Mama Chicken Mama Franky House    Quick Bites   \n",
       "2  3401013                   Bhagat Halwai    Quick Bites   \n",
       "3  3400290                   Bhagat Halwai    Quick Bites   \n",
       "4  3401744     The Salt Cafe Kitchen & Bar  Casual Dining   \n",
       "\n",
       "                                                 url  \\\n",
       "0  https://www.zomato.com/agra/bikanervala-khanda...   \n",
       "1  https://www.zomato.com/agra/mama-chicken-mama-...   \n",
       "2  https://www.zomato.com/agra/bhagat-halwai-2-sh...   \n",
       "3  https://www.zomato.com/agra/bhagat-halwai-civi...   \n",
       "4  https://www.zomato.com/agra/the-salt-cafe-kitc...   \n",
       "\n",
       "                                             address  city  city_id  \\\n",
       "0  Kalyani Point, Near Tulsi Cinema, Bypass Road,...  Agra       34   \n",
       "1        Main Market, Sadar Bazaar, Agra Cantt, Agra  Agra       34   \n",
       "2  62/1, Near Easy Day, West Shivaji Nagar, Goalp...  Agra       34   \n",
       "3  Near Anjana Cinema, Nehru Nagar, Civil Lines, ...  Agra       34   \n",
       "4        1C,3rd Floor, Fatehabad Road, Tajganj, Agra  Agra       34   \n",
       "\n",
       "      locality   latitude  longitude  ... price_range  currency  \\\n",
       "0     Khandari  27.211450  78.002381  ...           2       Rs.   \n",
       "1   Agra Cantt  27.160569  78.011583  ...           2       Rs.   \n",
       "2     Shahganj  27.182938  77.979684  ...           1       Rs.   \n",
       "3  Civil Lines  27.205668  78.004799  ...           1       Rs.   \n",
       "4      Tajganj  27.157709  78.052421  ...           3       Rs.   \n",
       "\n",
       "                                          highlights aggregate_rating  \\\n",
       "0  Lunch, Takeaway Available, Credit Card, Dinner...              4.4   \n",
       "1  Delivery, No Alcohol Available, Dinner, Takeaw...              4.4   \n",
       "2  No Alcohol Available, Dinner, Takeaway Availab...              4.2   \n",
       "3  Takeaway Available, Credit Card, Lunch, Delive...              4.3   \n",
       "4  Lunch, Serves Alcohol, Cash, Credit Card, Dinn...              4.9   \n",
       "\n",
       "  rating_text  votes  photo_count opentable_support delivery  takeaway  \n",
       "0   Very Good    814          154               0.0       -1        -1  \n",
       "1   Very Good   1203          161               0.0       -1        -1  \n",
       "2   Very Good    801          107               0.0        1        -1  \n",
       "3   Very Good    693          157               0.0        1        -1  \n",
       "4   Excellent    470          291               0.0        1        -1  \n",
       "\n",
       "[5 rows x 26 columns]"
      ]
     },
     "execution_count": 4,
     "metadata": {},
     "output_type": "execute_result"
    }
   ],
   "source": [
    "data.head(5)\n",
    "# data.locality_verbose"
   ]
  },
  {
   "cell_type": "markdown",
   "metadata": {},
   "source": [
    "**3. Note the redundant variables and drop them**"
   ]
  },
  {
   "cell_type": "code",
   "execution_count": 5,
   "metadata": {
    "scrolled": true
   },
   "outputs": [],
   "source": [
    "data.columns\n",
    "\n",
    "#country_id\n",
    "#city\n",
    "#country_id\n",
    "#locality_verbose\n",
    "#currency\n",
    "#opentable_support\n",
    "\n",
    "data=data.drop(['country_id','locality_verbose','currency','opentable_support'],axis=1)\n"
   ]
  },
  {
   "cell_type": "code",
   "execution_count": 6,
   "metadata": {},
   "outputs": [
    {
     "data": {
      "text/plain": [
       "(211944, 22)"
      ]
     },
     "execution_count": 6,
     "metadata": {},
     "output_type": "execute_result"
    }
   ],
   "source": [
    "data.shape"
   ]
  },
  {
   "cell_type": "markdown",
   "metadata": {},
   "source": [
    "**4. Check the data types. Refer to data definition to ensure your data types are correct. If data types are not as per business context, change the data types as per requirement**\n"
   ]
  },
  {
   "cell_type": "code",
   "execution_count": 7,
   "metadata": {},
   "outputs": [],
   "source": [
    "# data.astype()\n"
   ]
  },
  {
   "cell_type": "markdown",
   "metadata": {},
   "source": [
    "#### Change the incorrect data type"
   ]
  },
  {
   "cell_type": "code",
   "execution_count": null,
   "metadata": {},
   "outputs": [],
   "source": []
  },
  {
   "cell_type": "markdown",
   "metadata": {},
   "source": [
    "**5. Check for Duplicates**"
   ]
  },
  {
   "cell_type": "code",
   "execution_count": null,
   "metadata": {},
   "outputs": [],
   "source": []
  },
  {
   "cell_type": "markdown",
   "metadata": {},
   "source": [
    "<a id = 'Understanding_variables'> </a>\n",
    "## 5. Understand the variables"
   ]
  },
  {
   "cell_type": "markdown",
   "metadata": {},
   "source": [
    "**1. Variable 'name'**"
   ]
  },
  {
   "cell_type": "code",
   "execution_count": 8,
   "metadata": {},
   "outputs": [
    {
     "data": {
      "text/plain": [
       "0                            Bikanervala\n",
       "1         Mama Chicken Mama Franky House\n",
       "2                          Bhagat Halwai\n",
       "3                          Bhagat Halwai\n",
       "4            The Salt Cafe Kitchen & Bar\n",
       "                       ...              \n",
       "211939    Kali Mirch Cafe And Restaurant\n",
       "211940                        Raju Omlet\n",
       "211941                  The Grand Thakar\n",
       "211942                            Subway\n",
       "211943        Freshcos - The Health Cafe\n",
       "Name: name, Length: 211944, dtype: object"
      ]
     },
     "execution_count": 8,
     "metadata": {},
     "output_type": "execute_result"
    }
   ],
   "source": [
    "data.name"
   ]
  },
  {
   "cell_type": "markdown",
   "metadata": {},
   "source": [
    "**2. Variable 'establishment'**"
   ]
  },
  {
   "cell_type": "code",
   "execution_count": 9,
   "metadata": {},
   "outputs": [
    {
     "data": {
      "text/plain": [
       "0           Quick Bites\n",
       "1           Quick Bites\n",
       "2           Quick Bites\n",
       "3           Quick Bites\n",
       "4         Casual Dining\n",
       "              ...      \n",
       "211939    Casual Dining\n",
       "211940      Quick Bites\n",
       "211941    Casual Dining\n",
       "211942      Quick Bites\n",
       "211943             Café\n",
       "Name: establishment, Length: 211944, dtype: object"
      ]
     },
     "execution_count": 9,
     "metadata": {},
     "output_type": "execute_result"
    }
   ],
   "source": [
    "data.establishment"
   ]
  },
  {
   "cell_type": "markdown",
   "metadata": {},
   "source": [
    "**3. Variable 'city'**"
   ]
  },
  {
   "cell_type": "code",
   "execution_count": 10,
   "metadata": {},
   "outputs": [
    {
     "data": {
      "text/plain": [
       "0             Agra\n",
       "1             Agra\n",
       "2             Agra\n",
       "3             Agra\n",
       "4             Agra\n",
       "            ...   \n",
       "211939    Vadodara\n",
       "211940    Vadodara\n",
       "211941    Vadodara\n",
       "211942    Vadodara\n",
       "211943    Vadodara\n",
       "Name: city, Length: 211944, dtype: object"
      ]
     },
     "execution_count": 10,
     "metadata": {},
     "output_type": "execute_result"
    }
   ],
   "source": [
    "data.city"
   ]
  },
  {
   "cell_type": "markdown",
   "metadata": {},
   "source": [
    "**Let us find the count of restaurants in each city**"
   ]
  },
  {
   "cell_type": "code",
   "execution_count": 11,
   "metadata": {},
   "outputs": [
    {
     "data": {
      "text/plain": [
       "Chennai          11630\n",
       "Mumbai            6497\n",
       "Bangalore         4971\n",
       "Pune              4217\n",
       "Lucknow           4121\n",
       "                 ...  \n",
       "Ghaziabad          132\n",
       "Faridabad          124\n",
       "Howrah              66\n",
       "Greater Noida       33\n",
       "Nayagaon            17\n",
       "Name: city, Length: 98, dtype: int64"
      ]
     },
     "execution_count": 11,
     "metadata": {},
     "output_type": "execute_result"
    }
   ],
   "source": [
    "data.city.value_counts()\n"
   ]
  },
  {
   "cell_type": "markdown",
   "metadata": {},
   "source": [
    "**4. Variable 'locality'**"
   ]
  },
  {
   "cell_type": "code",
   "execution_count": 12,
   "metadata": {},
   "outputs": [
    {
     "data": {
      "text/plain": [
       "0            Khandari\n",
       "1          Agra Cantt\n",
       "2            Shahganj\n",
       "3         Civil Lines\n",
       "4             Tajganj\n",
       "             ...     \n",
       "211939      Fatehgunj\n",
       "211940     Karelibaug\n",
       "211941       Alkapuri\n",
       "211942          Akota\n",
       "211943       Vadiwadi\n",
       "Name: locality, Length: 211944, dtype: object"
      ]
     },
     "execution_count": 12,
     "metadata": {},
     "output_type": "execute_result"
    }
   ],
   "source": [
    "data.locality"
   ]
  },
  {
   "cell_type": "markdown",
   "metadata": {},
   "source": [
    "**4. Variable 'latitude'**\n",
    "\n",
    "From the variable 'latitude', we know the latitudinal location of the restaurant\n",
    "\n",
    "The Latitudinal extent of India 8º4‛N to 37º6‛ N. \n",
    "\n",
    "We must check whether we have any points beyond this extent."
   ]
  },
  {
   "cell_type": "markdown",
   "metadata": {},
   "source": [
    "- We need to replace all these values with NaN's."
   ]
  },
  {
   "cell_type": "markdown",
   "metadata": {},
   "source": [
    "- check if the values are replace by NaN's"
   ]
  },
  {
   "cell_type": "markdown",
   "metadata": {},
   "source": [
    "- We see all the values are replaced by NaN's"
   ]
  },
  {
   "cell_type": "code",
   "execution_count": 13,
   "metadata": {},
   "outputs": [
    {
     "data": {
      "text/plain": [
       "0         27.211450\n",
       "1         27.160569\n",
       "2         27.182938\n",
       "3         27.205668\n",
       "4         27.157709\n",
       "            ...    \n",
       "211939    22.336931\n",
       "211940    22.322455\n",
       "211941    22.310563\n",
       "211942    22.270027\n",
       "211943    22.309935\n",
       "Name: latitude, Length: 211944, dtype: float64"
      ]
     },
     "execution_count": 13,
     "metadata": {},
     "output_type": "execute_result"
    }
   ],
   "source": [
    "data.latitude"
   ]
  },
  {
   "cell_type": "code",
   "execution_count": 14,
   "metadata": {},
   "outputs": [
    {
     "data": {
      "text/plain": [
       "0"
      ]
     },
     "execution_count": 14,
     "metadata": {},
     "output_type": "execute_result"
    }
   ],
   "source": [
    "data.latitude.isna().sum()"
   ]
  },
  {
   "cell_type": "code",
   "execution_count": 15,
   "metadata": {},
   "outputs": [],
   "source": [
    "data.loc[(data.latitude<8.4)| (data.latitude >37.6),['latitude']]=None"
   ]
  },
  {
   "cell_type": "code",
   "execution_count": 16,
   "metadata": {},
   "outputs": [
    {
     "data": {
      "text/plain": [
       "1339"
      ]
     },
     "execution_count": 16,
     "metadata": {},
     "output_type": "execute_result"
    }
   ],
   "source": [
    "data.latitude.isna().sum()"
   ]
  },
  {
   "cell_type": "markdown",
   "metadata": {},
   "source": [
    "**5. Variable 'longitude'**\n",
    "\n",
    "From the variable 'longitude', we know the longitudinal location of the restaurant\n",
    "\n",
    "The Longitudinal extent of India is from 68°7'E to 97°25'E\n",
    "\n",
    "We must check whether we have any points beyond this extent."
   ]
  },
  {
   "cell_type": "markdown",
   "metadata": {},
   "source": [
    "- We need to replace all these values with NaN's."
   ]
  },
  {
   "cell_type": "markdown",
   "metadata": {},
   "source": [
    "- Check if the values are replace by NaN's"
   ]
  },
  {
   "cell_type": "markdown",
   "metadata": {},
   "source": [
    "- From variable 'latitude' and 'longitude', plot the location of restaurants."
   ]
  },
  {
   "cell_type": "code",
   "execution_count": 17,
   "metadata": {
    "scrolled": true
   },
   "outputs": [
    {
     "data": {
      "text/plain": [
       "0         78.002381\n",
       "1         78.011583\n",
       "2         77.979684\n",
       "3         78.004799\n",
       "4         78.052421\n",
       "            ...    \n",
       "211939    73.192356\n",
       "211940    73.197203\n",
       "211941    73.171164\n",
       "211942    73.143068\n",
       "211943    73.158768\n",
       "Name: longitude, Length: 211944, dtype: float64"
      ]
     },
     "execution_count": 17,
     "metadata": {},
     "output_type": "execute_result"
    }
   ],
   "source": [
    "data.longitude"
   ]
  },
  {
   "cell_type": "code",
   "execution_count": 18,
   "metadata": {},
   "outputs": [
    {
     "data": {
      "text/plain": [
       "0"
      ]
     },
     "execution_count": 18,
     "metadata": {},
     "output_type": "execute_result"
    }
   ],
   "source": [
    "data.longitude.isna().sum()"
   ]
  },
  {
   "cell_type": "code",
   "execution_count": 19,
   "metadata": {},
   "outputs": [],
   "source": [
    "data.loc[(data.longitude<68.7)| (data.longitude >97.25),['longitude']]=None"
   ]
  },
  {
   "cell_type": "code",
   "execution_count": 20,
   "metadata": {},
   "outputs": [
    {
     "data": {
      "text/plain": [
       "1329"
      ]
     },
     "execution_count": 20,
     "metadata": {},
     "output_type": "execute_result"
    }
   ],
   "source": [
    "data.longitude.isna().sum()"
   ]
  },
  {
   "cell_type": "code",
   "execution_count": null,
   "metadata": {},
   "outputs": [],
   "source": []
  },
  {
   "cell_type": "markdown",
   "metadata": {},
   "source": [
    "**6. Variable 'cuisines'**"
   ]
  },
  {
   "cell_type": "code",
   "execution_count": 21,
   "metadata": {},
   "outputs": [
    {
     "data": {
      "text/plain": [
       "0         North Indian, South Indian, Mithai, Street Foo...\n",
       "1         North Indian, Mughlai, Rolls, Chinese, Fast Fo...\n",
       "2                                         Fast Food, Mithai\n",
       "3                 Desserts, Bakery, Fast Food, South Indian\n",
       "4                        North Indian, Continental, Italian\n",
       "                                ...                        \n",
       "211939                                         North Indian\n",
       "211940                                            Fast Food\n",
       "211941                      Gujarati, North Indian, Chinese\n",
       "211942                           Fast Food, Sandwich, Salad\n",
       "211943                           Cafe, Healthy Food, Coffee\n",
       "Name: cuisines, Length: 211944, dtype: object"
      ]
     },
     "execution_count": 21,
     "metadata": {},
     "output_type": "execute_result"
    }
   ],
   "source": [
    "data.cuisines"
   ]
  },
  {
   "cell_type": "markdown",
   "metadata": {},
   "source": [
    "- To find the unique cusines we write a small user defined function.\n",
    "\n"
   ]
  },
  {
   "cell_type": "code",
   "execution_count": 22,
   "metadata": {},
   "outputs": [
    {
     "name": "stdout",
     "output_type": "stream",
     "text": [
      "{'Lebanese', 'Beverages', 'Roast Chicken', 'Bangladeshi', 'Pakistani', 'Belgian', 'Juices', 'Continental', 'Maharashtrian', 'Burger', 'Korean', 'German', 'Israeli', 'Chettinad', 'Iranian', 'Cuisine Varies', 'Mexican', 'Pan Asian', 'Sindhi', 'North Eastern', 'Arabian', 'Biryani', 'Bengali', 'Naga', 'Street Food', 'European', 'Kerala', 'Hyderabadi', 'Paan', 'Awadhi', 'Armenian', 'Hot dogs', 'American', 'Assamese', 'Brazilian', 'Indonesian', 'Afghani', 'Portuguese', 'Spanish', 'Andhra', 'Tibetan', 'Mishti', 'Middle Eastern', 'Bohri', 'Italian', 'Vietnamese', 'Coffee and Tea', 'Cafe Food', 'Frozen Yogurt', 'Himachali', 'Swedish', 'Cantonese', 'Mughlai', 'Malwani', 'Sri Lankan', 'International', 'Steak', 'Modern Australian', 'Grill', 'Mithai', 'Bihari', 'Burmese', 'nan', 'French', 'Tex-Mex', 'Turkish', 'Thai', 'Mongolian', 'Goan', 'Healthy Food', 'Gujarati', 'Bakery', 'Coffee', 'Malaysian', 'Mediterranean', 'Singaporean', 'Oriental', 'Afghan', 'Mangalorean', 'Bar Food', 'Irish', 'Momos', 'Russian', 'Sushi', 'Ice Cream', 'Japanese', 'BBQ', 'Greek', 'Panini', 'Modern Indian', 'North Indian', 'Raw Meats', 'Chinese', 'Crepes', 'Lucknowi', 'Fusion', 'Desserts', 'Cake', 'African', 'Rajasthani', 'British', 'Finger Food', 'Bubble Tea', 'Sandwich', 'Konkan', 'Fast Food', 'Poké', 'Kashmiri', 'Kebab', 'Peruvian', 'Drinks Only', 'Vegan', 'Asian', 'Wraps', 'Nepalese', 'Egyptian', 'South American', 'Pizza', 'Garhwali', 'Mandi', 'Moroccan', 'Fried Chicken', 'Salad', 'Falafel', 'Charcoal Chicken', 'South Indian', 'Seafood', 'Cafe', 'Rolls', 'Parsi', 'Tamil', 'Odia', 'Tea', 'Indian'}\n"
     ]
    }
   ],
   "source": [
    "save_cuisines=(list(map(str,(data.cuisines))))\n",
    "result_cuisines=set()\n",
    "for i in save_cuisines:\n",
    "    inter=(i.split(\", \"))\n",
    "    for j in inter:\n",
    "        result_cuisines.add(j)\n",
    "\n",
    "\n",
    "print(result_cuisines)\n",
    "\n"
   ]
  },
  {
   "cell_type": "markdown",
   "metadata": {},
   "source": [
    "- find out the frequency of each cuisine"
   ]
  },
  {
   "cell_type": "code",
   "execution_count": 23,
   "metadata": {},
   "outputs": [
    {
     "data": {
      "text/plain": [
       "North Indian                                                         15996\n",
       "Fast Food                                                             6721\n",
       "Cafe                                                                  6190\n",
       "North Indian, Chinese                                                 5820\n",
       "South Indian                                                          5217\n",
       "                                                                     ...  \n",
       "Asian, North Indian, American, Street Food, Healthy Food, Italian        1\n",
       "BBQ, Middle Eastern, Moroccan, Hyderabadi, Lebanese, Mughlai             1\n",
       "South Indian, North Indian, Juices, Chinese                              1\n",
       "Bakery, Fast Food, Pizza, Burger, Chinese, Sandwich, Wraps, Rolls        1\n",
       "Fast Food, Tea, Desserts                                                 1\n",
       "Name: cuisines, Length: 9382, dtype: int64"
      ]
     },
     "execution_count": 23,
     "metadata": {},
     "output_type": "execute_result"
    }
   ],
   "source": [
    "result_cuisines=list(result_cuisines)\n",
    "\n",
    "data.cuisines.value_counts()"
   ]
  },
  {
   "cell_type": "markdown",
   "metadata": {},
   "source": [
    "**8. Variable 'average_cost_for_two'**"
   ]
  },
  {
   "cell_type": "code",
   "execution_count": 24,
   "metadata": {},
   "outputs": [
    {
     "data": {
      "text/plain": [
       "0          700\n",
       "1          600\n",
       "2          300\n",
       "3          300\n",
       "4         1000\n",
       "          ... \n",
       "211939     600\n",
       "211940     300\n",
       "211941     700\n",
       "211942     500\n",
       "211943     600\n",
       "Name: average_cost_for_two, Length: 211944, dtype: int64"
      ]
     },
     "execution_count": 24,
     "metadata": {},
     "output_type": "execute_result"
    }
   ],
   "source": [
    "data.average_cost_for_two"
   ]
  },
  {
   "cell_type": "markdown",
   "metadata": {},
   "source": [
    "**9. Variable 'price_range'**"
   ]
  },
  {
   "cell_type": "code",
   "execution_count": null,
   "metadata": {},
   "outputs": [
    {
     "data": {
      "text/plain": [
       "<matplotlib.axes._subplots.AxesSubplot at 0x11ce1f8d0>"
      ]
     },
     "execution_count": 41,
     "metadata": {},
     "output_type": "execute_result"
    }
   ],
   "source": [
    "data.price_range.plot.pie(figsize=(6,6))"
   ]
  },
  {
   "cell_type": "markdown",
   "metadata": {},
   "source": [
    "- visualize a exploded pie chart."
   ]
  },
  {
   "cell_type": "code",
   "execution_count": null,
   "metadata": {},
   "outputs": [],
   "source": []
  },
  {
   "cell_type": "markdown",
   "metadata": {},
   "source": [
    "**10. Variable 'highlights'**"
   ]
  },
  {
   "cell_type": "code",
   "execution_count": 35,
   "metadata": {},
   "outputs": [
    {
     "data": {
      "text/plain": [
       "0         Lunch, Takeaway Available, Credit Card, Dinner...\n",
       "1         Delivery, No Alcohol Available, Dinner, Takeaw...\n",
       "2         No Alcohol Available, Dinner, Takeaway Availab...\n",
       "3         Takeaway Available, Credit Card, Lunch, Delive...\n",
       "4         Lunch, Serves Alcohol, Cash, Credit Card, Dinn...\n",
       "                                ...                        \n",
       "211939    Dinner, Cash, Lunch, Delivery, Indoor Seating,...\n",
       "211940    Dinner, Cash, Takeaway Available, Debit Card, ...\n",
       "211941    Dinner, Cash, Debit Card, Lunch, Takeaway Avai...\n",
       "211942    Dinner, Delivery, Credit Card, Lunch, Cash, Ta...\n",
       "211943    Dinner, Cash, Takeaway Available, Debit Card, ...\n",
       "Name: highlights, Length: 211944, dtype: object"
      ]
     },
     "execution_count": 35,
     "metadata": {},
     "output_type": "execute_result"
    }
   ],
   "source": [
    "data.highlights"
   ]
  },
  {
   "cell_type": "markdown",
   "metadata": {},
   "source": [
    "\n",
    "\n",
    "- write a small function to know the number of times a facility has appeared in the 'Highlights'."
   ]
  },
  {
   "cell_type": "code",
   "execution_count": null,
   "metadata": {},
   "outputs": [],
   "source": []
  },
  {
   "cell_type": "markdown",
   "metadata": {},
   "source": [
    "- Now we find out which facility occurs most number of in the data."
   ]
  },
  {
   "cell_type": "code",
   "execution_count": null,
   "metadata": {},
   "outputs": [],
   "source": []
  },
  {
   "cell_type": "markdown",
   "metadata": {},
   "source": [
    "**11. Variable 'aggregate_rating'** \n",
    "\n"
   ]
  },
  {
   "cell_type": "code",
   "execution_count": 26,
   "metadata": {},
   "outputs": [
    {
     "data": {
      "text/plain": [
       "0         4.4\n",
       "1         4.4\n",
       "2         4.2\n",
       "3         4.3\n",
       "4         4.9\n",
       "         ... \n",
       "211939    4.1\n",
       "211940    4.1\n",
       "211941    4.0\n",
       "211942    3.7\n",
       "211943    4.0\n",
       "Name: aggregate_rating, Length: 211944, dtype: float64"
      ]
     },
     "execution_count": 26,
     "metadata": {},
     "output_type": "execute_result"
    }
   ],
   "source": [
    "data.aggregate_rating"
   ]
  },
  {
   "cell_type": "markdown",
   "metadata": {},
   "source": [
    "**12. Variable 'rating_text'**\n",
    "\n"
   ]
  },
  {
   "cell_type": "code",
   "execution_count": 27,
   "metadata": {},
   "outputs": [
    {
     "data": {
      "text/plain": [
       "0         Very Good\n",
       "1         Very Good\n",
       "2         Very Good\n",
       "3         Very Good\n",
       "4         Excellent\n",
       "            ...    \n",
       "211939    Very Good\n",
       "211940    Very Good\n",
       "211941    Very Good\n",
       "211942         Good\n",
       "211943    Very Good\n",
       "Name: rating_text, Length: 211944, dtype: object"
      ]
     },
     "execution_count": 27,
     "metadata": {},
     "output_type": "execute_result"
    }
   ],
   "source": [
    "data.rating_text"
   ]
  },
  {
   "cell_type": "markdown",
   "metadata": {},
   "source": [
    "Creating a New feature for better understanding of ratings\n"
   ]
  },
  {
   "cell_type": "code",
   "execution_count": 32,
   "metadata": {},
   "outputs": [
    {
     "data": {
      "text/plain": [
       "array(['Very Good', 'Excellent', 'Good', 'Average', 'Not rated', 'Poor',\n",
       "       'Dobré', 'Baik', 'Sangat Baik', 'Excelente', 'Bardzo dobrze',\n",
       "       'Wybitnie', 'Ottimo', 'Muito Bom', 'Velmi dobré', 'Skvělá volba',\n",
       "       'Muy Bueno', 'Bom', 'İyi', 'Çok iyi', 'Harika', 'Terbaik',\n",
       "       'Skvělé', 'Průměr', 'Ortalama', 'Bueno', 'Eccellente', 'Muito bom',\n",
       "       'Dobrze', 'Buono', 'Média', 'Scarso', 'Promedio', 'Veľmi dobré',\n",
       "       'Vynikajúce', 'Średnio', 'Priemer', 'Biasa', 'Media'], dtype=object)"
      ]
     },
     "execution_count": 32,
     "metadata": {},
     "output_type": "execute_result"
    }
   ],
   "source": [
    "data.rating_text.unique()"
   ]
  },
  {
   "cell_type": "markdown",
   "metadata": {},
   "source": [
    "**13. Variable 'votes'**"
   ]
  },
  {
   "cell_type": "code",
   "execution_count": 33,
   "metadata": {},
   "outputs": [
    {
     "data": {
      "text/plain": [
       "0          814\n",
       "1         1203\n",
       "2          801\n",
       "3          693\n",
       "4          470\n",
       "          ... \n",
       "211939     243\n",
       "211940     187\n",
       "211941     111\n",
       "211942     128\n",
       "211943      93\n",
       "Name: votes, Length: 211944, dtype: int64"
      ]
     },
     "execution_count": 33,
     "metadata": {},
     "output_type": "execute_result"
    }
   ],
   "source": [
    "data.votes"
   ]
  },
  {
   "cell_type": "markdown",
   "metadata": {},
   "source": [
    "**14. Variable 'photo_count'**"
   ]
  },
  {
   "cell_type": "code",
   "execution_count": 34,
   "metadata": {},
   "outputs": [
    {
     "data": {
      "text/plain": [
       "0         154\n",
       "1         161\n",
       "2         107\n",
       "3         157\n",
       "4         291\n",
       "         ... \n",
       "211939     40\n",
       "211940     40\n",
       "211941     38\n",
       "211942     34\n",
       "211943     53\n",
       "Name: photo_count, Length: 211944, dtype: int64"
      ]
     },
     "execution_count": 34,
     "metadata": {},
     "output_type": "execute_result"
    }
   ],
   "source": [
    "data.photo_count"
   ]
  },
  {
   "cell_type": "markdown",
   "metadata": {},
   "source": [
    "**15. Variable 'delivery'**"
   ]
  },
  {
   "cell_type": "code",
   "execution_count": 31,
   "metadata": {},
   "outputs": [
    {
     "data": {
      "text/plain": [
       "0        -1\n",
       "1        -1\n",
       "2         1\n",
       "3         1\n",
       "4         1\n",
       "         ..\n",
       "211939   -1\n",
       "211940    1\n",
       "211941   -1\n",
       "211942    1\n",
       "211943    1\n",
       "Name: delivery, Length: 211944, dtype: int64"
      ]
     },
     "execution_count": 31,
     "metadata": {},
     "output_type": "execute_result"
    }
   ],
   "source": [
    "data.delivery"
   ]
  },
  {
   "cell_type": "markdown",
   "metadata": {},
   "source": [
    "<a id ='missing'></a>\n",
    "## 6. Check for missing values"
   ]
  },
  {
   "cell_type": "code",
   "execution_count": 37,
   "metadata": {},
   "outputs": [
    {
     "data": {
      "text/plain": [
       "res_id                       0\n",
       "name                         0\n",
       "establishment             4827\n",
       "url                          0\n",
       "address                    134\n",
       "city                         0\n",
       "city_id                      0\n",
       "locality                     0\n",
       "latitude                  1339\n",
       "longitude                 1329\n",
       "zipcode                 163187\n",
       "cuisines                  1391\n",
       "timings                   3874\n",
       "average_cost_for_two         0\n",
       "price_range                  0\n",
       "highlights                2069\n",
       "aggregate_rating             0\n",
       "rating_text                  0\n",
       "votes                        0\n",
       "photo_count                  0\n",
       "delivery                     0\n",
       "takeaway                     0\n",
       "dtype: int64"
      ]
     },
     "execution_count": 37,
     "metadata": {},
     "output_type": "execute_result"
    }
   ],
   "source": [
    "data.isna().sum()"
   ]
  },
  {
   "cell_type": "markdown",
   "metadata": {},
   "source": [
    "**6. Study summary statistics**"
   ]
  },
  {
   "cell_type": "markdown",
   "metadata": {},
   "source": [
    "Let us check the summary statistics for numerical variables."
   ]
  },
  {
   "cell_type": "code",
   "execution_count": 38,
   "metadata": {
    "scrolled": true
   },
   "outputs": [
    {
     "data": {
      "text/html": [
       "<div>\n",
       "<style scoped>\n",
       "    .dataframe tbody tr th:only-of-type {\n",
       "        vertical-align: middle;\n",
       "    }\n",
       "\n",
       "    .dataframe tbody tr th {\n",
       "        vertical-align: top;\n",
       "    }\n",
       "\n",
       "    .dataframe thead th {\n",
       "        text-align: right;\n",
       "    }\n",
       "</style>\n",
       "<table border=\"1\" class=\"dataframe\">\n",
       "  <thead>\n",
       "    <tr style=\"text-align: right;\">\n",
       "      <th></th>\n",
       "      <th>res_id</th>\n",
       "      <th>city_id</th>\n",
       "      <th>latitude</th>\n",
       "      <th>longitude</th>\n",
       "      <th>average_cost_for_two</th>\n",
       "      <th>price_range</th>\n",
       "      <th>aggregate_rating</th>\n",
       "      <th>votes</th>\n",
       "      <th>photo_count</th>\n",
       "      <th>delivery</th>\n",
       "      <th>takeaway</th>\n",
       "    </tr>\n",
       "  </thead>\n",
       "  <tbody>\n",
       "    <tr>\n",
       "      <td>count</td>\n",
       "      <td>2.119440e+05</td>\n",
       "      <td>211944.000000</td>\n",
       "      <td>210605.000000</td>\n",
       "      <td>210615.000000</td>\n",
       "      <td>211944.000000</td>\n",
       "      <td>211944.000000</td>\n",
       "      <td>211944.000000</td>\n",
       "      <td>211944.000000</td>\n",
       "      <td>211944.000000</td>\n",
       "      <td>211944.000000</td>\n",
       "      <td>211944.0</td>\n",
       "    </tr>\n",
       "    <tr>\n",
       "      <td>mean</td>\n",
       "      <td>1.349411e+07</td>\n",
       "      <td>4746.785434</td>\n",
       "      <td>21.586832</td>\n",
       "      <td>78.104827</td>\n",
       "      <td>595.812229</td>\n",
       "      <td>1.882535</td>\n",
       "      <td>3.395937</td>\n",
       "      <td>378.002571</td>\n",
       "      <td>256.971224</td>\n",
       "      <td>-0.255907</td>\n",
       "      <td>-1.0</td>\n",
       "    </tr>\n",
       "    <tr>\n",
       "      <td>std</td>\n",
       "      <td>7.883722e+06</td>\n",
       "      <td>5568.766386</td>\n",
       "      <td>6.823595</td>\n",
       "      <td>4.286852</td>\n",
       "      <td>606.239363</td>\n",
       "      <td>0.892989</td>\n",
       "      <td>1.283642</td>\n",
       "      <td>925.333106</td>\n",
       "      <td>867.668940</td>\n",
       "      <td>0.964172</td>\n",
       "      <td>0.0</td>\n",
       "    </tr>\n",
       "    <tr>\n",
       "      <td>min</td>\n",
       "      <td>5.000000e+01</td>\n",
       "      <td>1.000000</td>\n",
       "      <td>8.400144</td>\n",
       "      <td>69.014446</td>\n",
       "      <td>0.000000</td>\n",
       "      <td>1.000000</td>\n",
       "      <td>0.000000</td>\n",
       "      <td>0.000000</td>\n",
       "      <td>0.000000</td>\n",
       "      <td>-1.000000</td>\n",
       "      <td>-1.0</td>\n",
       "    </tr>\n",
       "    <tr>\n",
       "      <td>25%</td>\n",
       "      <td>3.301027e+06</td>\n",
       "      <td>11.000000</td>\n",
       "      <td>15.545368</td>\n",
       "      <td>74.892431</td>\n",
       "      <td>250.000000</td>\n",
       "      <td>1.000000</td>\n",
       "      <td>3.300000</td>\n",
       "      <td>16.000000</td>\n",
       "      <td>3.000000</td>\n",
       "      <td>-1.000000</td>\n",
       "      <td>-1.0</td>\n",
       "    </tr>\n",
       "    <tr>\n",
       "      <td>50%</td>\n",
       "      <td>1.869573e+07</td>\n",
       "      <td>34.000000</td>\n",
       "      <td>22.541707</td>\n",
       "      <td>77.434536</td>\n",
       "      <td>400.000000</td>\n",
       "      <td>2.000000</td>\n",
       "      <td>3.800000</td>\n",
       "      <td>100.000000</td>\n",
       "      <td>18.000000</td>\n",
       "      <td>-1.000000</td>\n",
       "      <td>-1.0</td>\n",
       "    </tr>\n",
       "    <tr>\n",
       "      <td>75%</td>\n",
       "      <td>1.881297e+07</td>\n",
       "      <td>11306.000000</td>\n",
       "      <td>26.847055</td>\n",
       "      <td>80.221799</td>\n",
       "      <td>700.000000</td>\n",
       "      <td>2.000000</td>\n",
       "      <td>4.100000</td>\n",
       "      <td>362.000000</td>\n",
       "      <td>128.000000</td>\n",
       "      <td>1.000000</td>\n",
       "      <td>-1.0</td>\n",
       "    </tr>\n",
       "    <tr>\n",
       "      <td>max</td>\n",
       "      <td>1.915979e+07</td>\n",
       "      <td>11354.000000</td>\n",
       "      <td>34.214702</td>\n",
       "      <td>91.832769</td>\n",
       "      <td>30000.000000</td>\n",
       "      <td>4.000000</td>\n",
       "      <td>4.900000</td>\n",
       "      <td>42539.000000</td>\n",
       "      <td>17702.000000</td>\n",
       "      <td>1.000000</td>\n",
       "      <td>-1.0</td>\n",
       "    </tr>\n",
       "  </tbody>\n",
       "</table>\n",
       "</div>"
      ],
      "text/plain": [
       "             res_id        city_id       latitude      longitude  \\\n",
       "count  2.119440e+05  211944.000000  210605.000000  210615.000000   \n",
       "mean   1.349411e+07    4746.785434      21.586832      78.104827   \n",
       "std    7.883722e+06    5568.766386       6.823595       4.286852   \n",
       "min    5.000000e+01       1.000000       8.400144      69.014446   \n",
       "25%    3.301027e+06      11.000000      15.545368      74.892431   \n",
       "50%    1.869573e+07      34.000000      22.541707      77.434536   \n",
       "75%    1.881297e+07   11306.000000      26.847055      80.221799   \n",
       "max    1.915979e+07   11354.000000      34.214702      91.832769   \n",
       "\n",
       "       average_cost_for_two    price_range  aggregate_rating          votes  \\\n",
       "count         211944.000000  211944.000000     211944.000000  211944.000000   \n",
       "mean             595.812229       1.882535          3.395937     378.002571   \n",
       "std              606.239363       0.892989          1.283642     925.333106   \n",
       "min                0.000000       1.000000          0.000000       0.000000   \n",
       "25%              250.000000       1.000000          3.300000      16.000000   \n",
       "50%              400.000000       2.000000          3.800000     100.000000   \n",
       "75%              700.000000       2.000000          4.100000     362.000000   \n",
       "max            30000.000000       4.000000          4.900000   42539.000000   \n",
       "\n",
       "         photo_count       delivery  takeaway  \n",
       "count  211944.000000  211944.000000  211944.0  \n",
       "mean      256.971224      -0.255907      -1.0  \n",
       "std       867.668940       0.964172       0.0  \n",
       "min         0.000000      -1.000000      -1.0  \n",
       "25%         3.000000      -1.000000      -1.0  \n",
       "50%        18.000000      -1.000000      -1.0  \n",
       "75%       128.000000       1.000000      -1.0  \n",
       "max     17702.000000       1.000000      -1.0  "
      ]
     },
     "execution_count": 38,
     "metadata": {},
     "output_type": "execute_result"
    }
   ],
   "source": [
    "data.describe()"
   ]
  },
  {
   "cell_type": "markdown",
   "metadata": {},
   "source": [
    "<a id = 'correlation'> </a>\n",
    "## 7. Study correlation"
   ]
  },
  {
   "cell_type": "code",
   "execution_count": null,
   "metadata": {},
   "outputs": [],
   "source": [
    "import seaborn as sns\n",
    "corr=data.corr()\n",
    "sns.heatmap(corr,annot=True)\n"
   ]
  },
  {
   "cell_type": "markdown",
   "metadata": {},
   "source": [
    "\n",
    "## 8. Detect outliers"
   ]
  },
  {
   "cell_type": "code",
   "execution_count": null,
   "metadata": {},
   "outputs": [],
   "source": []
  },
  {
   "cell_type": "markdown",
   "metadata": {},
   "source": [
    "<a id='region'> </a>\n",
    "## 9. Create a new variable 'region'\n"
   ]
  },
  {
   "cell_type": "markdown",
   "metadata": {},
   "source": [
    "Create a variable 'region' with four categories 'northern','eastern', 'southern', 'western' and 'central'. To do so, use the 'city' column, group all cities belonging to the same region. "
   ]
  },
  {
   "cell_type": "code",
   "execution_count": null,
   "metadata": {},
   "outputs": [],
   "source": []
  },
  {
   "cell_type": "markdown",
   "metadata": {},
   "source": [
    "<a id='more'> </a>\n",
    "## 10. Some more Analysis"
   ]
  },
  {
   "cell_type": "markdown",
   "metadata": {},
   "source": [
    "<b>Lets us explore the data some more now that we have extrapolated and removed the missing values <br>\n",
    "We now conduct analysis to compare the regions.</b>"
   ]
  },
  {
   "cell_type": "markdown",
   "metadata": {},
   "source": [
    "### 1. To find which cities have expensive restaurants \n",
    "\n",
    "-  plot the cities which have costliest restaurants. "
   ]
  },
  {
   "cell_type": "code",
   "execution_count": null,
   "metadata": {},
   "outputs": [],
   "source": []
  },
  {
   "cell_type": "markdown",
   "metadata": {},
   "source": [
    "### 2.  Comparing regions"
   ]
  },
  {
   "cell_type": "code",
   "execution_count": null,
   "metadata": {},
   "outputs": [],
   "source": []
  },
  {
   "cell_type": "markdown",
   "metadata": {},
   "source": [
    "### 2a. Highlights available in restaurants for different regions"
   ]
  },
  {
   "cell_type": "markdown",
   "metadata": {},
   "source": [
    "To cater our analysis we define the regions as nothern, eastern, western and southern."
   ]
  },
  {
   "cell_type": "markdown",
   "metadata": {},
   "source": [
    "We first need to select the unique facilities available in each region and sort according to their frequencies."
   ]
  },
  {
   "cell_type": "markdown",
   "metadata": {},
   "source": [
    "**Highlights of the northern region**"
   ]
  },
  {
   "cell_type": "code",
   "execution_count": null,
   "metadata": {},
   "outputs": [],
   "source": []
  },
  {
   "cell_type": "markdown",
   "metadata": {},
   "source": [
    "**Highlights of the eastern region**"
   ]
  },
  {
   "cell_type": "code",
   "execution_count": null,
   "metadata": {},
   "outputs": [],
   "source": []
  },
  {
   "cell_type": "markdown",
   "metadata": {},
   "source": [
    "**Highlights of the southern region**"
   ]
  },
  {
   "cell_type": "code",
   "execution_count": null,
   "metadata": {},
   "outputs": [],
   "source": []
  },
  {
   "cell_type": "markdown",
   "metadata": {},
   "source": [
    "**Highlights of the western region**"
   ]
  },
  {
   "cell_type": "code",
   "execution_count": null,
   "metadata": {},
   "outputs": [],
   "source": []
  },
  {
   "cell_type": "markdown",
   "metadata": {},
   "source": [
    "#### Plot the barplot for different regions"
   ]
  },
  {
   "cell_type": "markdown",
   "metadata": {},
   "source": [
    "We shall now plot the graphs for top 10 highlights."
   ]
  },
  {
   "cell_type": "code",
   "execution_count": null,
   "metadata": {},
   "outputs": [],
   "source": []
  },
  {
   "cell_type": "markdown",
   "metadata": {},
   "source": [
    "### 2b. Cuisines available in restaurants for different regions"
   ]
  },
  {
   "cell_type": "markdown",
   "metadata": {},
   "source": [
    "**Cuisines in the northern region**"
   ]
  },
  {
   "cell_type": "code",
   "execution_count": null,
   "metadata": {},
   "outputs": [],
   "source": []
  },
  {
   "cell_type": "markdown",
   "metadata": {},
   "source": [
    "**Cuisines in the eastern region**"
   ]
  },
  {
   "cell_type": "code",
   "execution_count": null,
   "metadata": {},
   "outputs": [],
   "source": []
  },
  {
   "cell_type": "markdown",
   "metadata": {},
   "source": [
    "**Cuisines in the southern region**"
   ]
  },
  {
   "cell_type": "code",
   "execution_count": null,
   "metadata": {},
   "outputs": [],
   "source": []
  },
  {
   "cell_type": "markdown",
   "metadata": {},
   "source": [
    "**Cuisines in the western region** "
   ]
  },
  {
   "cell_type": "code",
   "execution_count": null,
   "metadata": {},
   "outputs": [],
   "source": []
  },
  {
   "cell_type": "markdown",
   "metadata": {},
   "source": [
    "- Plot the barplot for top 10 cuisines served in the four regions"
   ]
  },
  {
   "cell_type": "markdown",
   "metadata": {},
   "source": [
    "###  3. The Northern Region"
   ]
  },
  {
   "cell_type": "markdown",
   "metadata": {},
   "source": [
    "**Now we shall consider only the northern region**"
   ]
  },
  {
   "cell_type": "markdown",
   "metadata": {},
   "source": [
    "**1. The top 10 cuisines served in Restaurants** "
   ]
  },
  {
   "cell_type": "code",
   "execution_count": null,
   "metadata": {},
   "outputs": [],
   "source": []
  },
  {
   "cell_type": "markdown",
   "metadata": {},
   "source": [
    "**2. Do restaurants with more photo counts and votes have better rating?**"
   ]
  },
  {
   "cell_type": "code",
   "execution_count": null,
   "metadata": {},
   "outputs": [],
   "source": []
  },
  {
   "cell_type": "markdown",
   "metadata": {},
   "source": [
    "- Plot a boxplots for the above table"
   ]
  },
  {
   "cell_type": "markdown",
   "metadata": {},
   "source": [
    "### 4. The Mumbai city"
   ]
  },
  {
   "cell_type": "markdown",
   "metadata": {},
   "source": [
    "consider the city mumbai and get a better insights of restuarants in Mumbai."
   ]
  },
  {
   "cell_type": "code",
   "execution_count": null,
   "metadata": {},
   "outputs": [],
   "source": []
  },
  {
   "cell_type": "markdown",
   "metadata": {},
   "source": [
    "**1. Expensive restaurants in Mumbai**\n",
    "\n",
    "-  Define the costliest restaurants whose average cost of two people exceeds Rs.5000 .\n",
    "-  Plot the restaurants which are costliest based on their average cost for two .\n",
    "\n",
    "\n"
   ]
  },
  {
   "cell_type": "code",
   "execution_count": null,
   "metadata": {},
   "outputs": [],
   "source": []
  },
  {
   "cell_type": "markdown",
   "metadata": {},
   "source": [
    "**2.To find the top 20 cuisines of Mumbai**"
   ]
  },
  {
   "cell_type": "markdown",
   "metadata": {},
   "source": [
    "- select unique cuisines available at restaurants in Mumbai\n",
    "\n",
    "\n",
    "- sort cuisines based on frequency\n"
   ]
  },
  {
   "cell_type": "code",
   "execution_count": null,
   "metadata": {},
   "outputs": [],
   "source": []
  },
  {
   "cell_type": "markdown",
   "metadata": {},
   "source": [
    "**3. To find the popular localities in Mumbai**"
   ]
  },
  {
   "cell_type": "code",
   "execution_count": null,
   "metadata": {},
   "outputs": [],
   "source": []
  },
  {
   "cell_type": "markdown",
   "metadata": {},
   "source": [
    "**4. Check for relationship between 'aggregate_rating' and 'average_cost_for_two'**"
   ]
  },
  {
   "cell_type": "code",
   "execution_count": null,
   "metadata": {},
   "outputs": [],
   "source": []
  },
  {
   "cell_type": "markdown",
   "metadata": {},
   "source": [
    "**5. Multiple box plot for photo_counts based on establishment type.**\n",
    "\n"
   ]
  },
  {
   "cell_type": "code",
   "execution_count": null,
   "metadata": {},
   "outputs": [],
   "source": []
  },
  {
   "cell_type": "markdown",
   "metadata": {},
   "source": [
    "**6. Check for payments method offered in restaurants**"
   ]
  },
  {
   "cell_type": "markdown",
   "metadata": {},
   "source": [
    "- select unique facilities available at restaurants in western region\n",
    "- sort facilities based on frequency\n"
   ]
  },
  {
   "cell_type": "code",
   "execution_count": null,
   "metadata": {},
   "outputs": [],
   "source": []
  }
 ],
 "metadata": {
  "kernelspec": {
   "display_name": "Python 3",
   "language": "python",
   "name": "python3"
  },
  "language_info": {
   "codemirror_mode": {
    "name": "ipython",
    "version": 3
   },
   "file_extension": ".py",
   "mimetype": "text/x-python",
   "name": "python",
   "nbconvert_exporter": "python",
   "pygments_lexer": "ipython3",
   "version": "3.7.4"
  }
 },
 "nbformat": 4,
 "nbformat_minor": 2
}
